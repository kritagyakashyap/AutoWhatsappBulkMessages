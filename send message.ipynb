{
 "cells": [
  {
   "cell_type": "code",
   "execution_count": 1,
   "id": "f0159492",
   "metadata": {},
   "outputs": [],
   "source": [
    "import pandas as pd\n",
    "import pywhatkit as kit\n",
    "import time\n",
    "import keyboard\n",
    "\n",
    "def send_whatsapp_messages(csv_file_path, phone_column_name):\n",
    "    df = pd.read_csv(csv_file_path)  \n",
    "    for index, row in df.iterrows():\n",
    "        phone_number = str(row[phone_column_name])\n",
    "\n",
    "        if not phone_number.startswith('+'):\n",
    "            phone_number = '+91' + phone_number\n",
    "\n",
    "        message = '''This is Automated message''' \n",
    "\n",
    "        try:\n",
    "            kit.sendwhatmsg_instantly(phone_number, message)\n",
    "            print(f\"Message sent to {phone_number}\")\n",
    "            keyboard.press_and_release(\"enter\")\n",
    "            time.sleep(10)\n",
    "            \n",
    "            \n",
    "            keyboard.press_and_release(\"ctrl+w\")\n",
    "        except Exception as e:\n",
    "            print(f\"Error sending message to {phone_number}: {str(e)}\")"
   ]
  },
  {
   "cell_type": "code",
   "execution_count": 4,
   "id": "8aee1eb6",
   "metadata": {},
   "outputs": [
    {
     "ename": "KeyboardInterrupt",
     "evalue": "",
     "output_type": "error",
     "traceback": [
      "\u001b[1;31m---------------------------------------------------------------------------\u001b[0m",
      "\u001b[1;31mKeyboardInterrupt\u001b[0m                         Traceback (most recent call last)",
      "Cell \u001b[1;32mIn[4], line 2\u001b[0m\n\u001b[0;32m      1\u001b[0m filepath \u001b[38;5;241m=\u001b[39m \u001b[38;5;124mr\u001b[39m\u001b[38;5;124m\"\u001b[39m\u001b[38;5;124mC:\u001b[39m\u001b[38;5;124m\\\u001b[39m\u001b[38;5;124mUsers\u001b[39m\u001b[38;5;124m\\\u001b[39m\u001b[38;5;124mmailt\u001b[39m\u001b[38;5;124m\\\u001b[39m\u001b[38;5;124mOneDrive\u001b[39m\u001b[38;5;124m\\\u001b[39m\u001b[38;5;124mDesktop\u001b[39m\u001b[38;5;124m\\\u001b[39m\u001b[38;5;124mAutomsg.csv\u001b[39m\u001b[38;5;124m\"\u001b[39m\n\u001b[1;32m----> 2\u001b[0m send_whatsapp_messages(filepath, \u001b[38;5;124m\"\u001b[39m\u001b[38;5;124mPhone Number\u001b[39m\u001b[38;5;124m\"\u001b[39m)\n",
      "Cell \u001b[1;32mIn[1], line 47\u001b[0m, in \u001b[0;36msend_whatsapp_messages\u001b[1;34m(csv_file_path, phone_column_name)\u001b[0m\n\u001b[0;32m     14\u001b[0m         message \u001b[38;5;241m=\u001b[39m \u001b[38;5;124m'''\u001b[39m\u001b[38;5;124mI hope you\u001b[39m\u001b[38;5;124m'\u001b[39m\u001b[38;5;124mre doing well!\u001b[39m\n\u001b[0;32m     15\u001b[0m \u001b[38;5;124m \u001b[39m\n\u001b[0;32m     16\u001b[0m \u001b[38;5;124mI\u001b[39m\u001b[38;5;124m'\u001b[39m\u001b[38;5;124mm reaching out from Khichad Technologies to introduce our digital marketing and IT services. We specialize in helping businesses like yours enhance their online presence, attract more customers, and grow revenue through tailored strategies.\u001b[39m\n\u001b[1;32m   (...)\u001b[0m\n\u001b[0;32m     43\u001b[0m \u001b[38;5;124mKhichad Technologies\u001b[39m\n\u001b[0;32m     44\u001b[0m \u001b[38;5;124mhttps://khichad.com/\u001b[39m\u001b[38;5;124m'''\u001b[39m \n\u001b[0;32m     46\u001b[0m         \u001b[38;5;28;01mtry\u001b[39;00m:\n\u001b[1;32m---> 47\u001b[0m             kit\u001b[38;5;241m.\u001b[39msendwhatmsg_instantly(phone_number, message)\n\u001b[0;32m     48\u001b[0m             \u001b[38;5;28mprint\u001b[39m(\u001b[38;5;124mf\u001b[39m\u001b[38;5;124m\"\u001b[39m\u001b[38;5;124mMessage sent to \u001b[39m\u001b[38;5;132;01m{\u001b[39;00mphone_number\u001b[38;5;132;01m}\u001b[39;00m\u001b[38;5;124m\"\u001b[39m)\n\u001b[0;32m     49\u001b[0m             keyboard\u001b[38;5;241m.\u001b[39mpress_and_release(\u001b[38;5;124m\"\u001b[39m\u001b[38;5;124menter\u001b[39m\u001b[38;5;124m\"\u001b[39m)\n",
      "File \u001b[1;32m~\\anaconda3\\Lib\\site-packages\\pywhatkit\\whats.py:31\u001b[0m, in \u001b[0;36msendwhatmsg_instantly\u001b[1;34m(phone_no, message, wait_time, tab_close, close_time)\u001b[0m\n\u001b[0;32m     29\u001b[0m time\u001b[38;5;241m.\u001b[39msleep(\u001b[38;5;241m4\u001b[39m)\n\u001b[0;32m     30\u001b[0m pg\u001b[38;5;241m.\u001b[39mclick(core\u001b[38;5;241m.\u001b[39mWIDTH \u001b[38;5;241m/\u001b[39m \u001b[38;5;241m2\u001b[39m, core\u001b[38;5;241m.\u001b[39mHEIGHT \u001b[38;5;241m/\u001b[39m \u001b[38;5;241m2\u001b[39m)\n\u001b[1;32m---> 31\u001b[0m time\u001b[38;5;241m.\u001b[39msleep(wait_time \u001b[38;5;241m-\u001b[39m \u001b[38;5;241m4\u001b[39m)\n\u001b[0;32m     32\u001b[0m pg\u001b[38;5;241m.\u001b[39mpress(\u001b[38;5;124m\"\u001b[39m\u001b[38;5;124menter\u001b[39m\u001b[38;5;124m\"\u001b[39m)\n\u001b[0;32m     33\u001b[0m log\u001b[38;5;241m.\u001b[39mlog_message(_time\u001b[38;5;241m=\u001b[39mtime\u001b[38;5;241m.\u001b[39mlocaltime(), receiver\u001b[38;5;241m=\u001b[39mphone_no, message\u001b[38;5;241m=\u001b[39mmessage)\n",
      "\u001b[1;31mKeyboardInterrupt\u001b[0m: "
     ]
    }
   ],
   "source": [
    "filepath = r\"C:\\Users\\mailt\\OneDrive\\Desktop\\Automsg.csv\"\n",
    "send_whatsapp_messages(filepath, \"Phone Number\")"
   ]
  },
  {
   "cell_type": "code",
   "execution_count": null,
   "id": "d85facba",
   "metadata": {},
   "outputs": [],
   "source": []
  },
  {
   "cell_type": "code",
   "execution_count": null,
   "id": "67bf5ade",
   "metadata": {},
   "outputs": [],
   "source": []
  },
  {
   "cell_type": "code",
   "execution_count": null,
   "id": "1eed7686",
   "metadata": {},
   "outputs": [],
   "source": []
  },
  {
   "cell_type": "code",
   "execution_count": null,
   "id": "8e5307f6",
   "metadata": {},
   "outputs": [],
   "source": []
  },
  {
   "cell_type": "code",
   "execution_count": null,
   "id": "11ddd038",
   "metadata": {},
   "outputs": [],
   "source": []
  },
  {
   "cell_type": "code",
   "execution_count": null,
   "id": "140b0c28",
   "metadata": {},
   "outputs": [],
   "source": []
  },
  {
   "cell_type": "code",
   "execution_count": null,
   "id": "3edef94f",
   "metadata": {},
   "outputs": [],
   "source": []
  },
  {
   "cell_type": "code",
   "execution_count": null,
   "id": "3a65c877",
   "metadata": {},
   "outputs": [],
   "source": []
  },
  {
   "cell_type": "code",
   "execution_count": null,
   "id": "4841968e",
   "metadata": {},
   "outputs": [],
   "source": []
  },
  {
   "cell_type": "code",
   "execution_count": null,
   "id": "a1c851cb",
   "metadata": {},
   "outputs": [],
   "source": []
  }
 ],
 "metadata": {
  "kernelspec": {
   "display_name": "Python 3 (ipykernel)",
   "language": "python",
   "name": "python3"
  },
  "language_info": {
   "codemirror_mode": {
    "name": "ipython",
    "version": 3
   },
   "file_extension": ".py",
   "mimetype": "text/x-python",
   "name": "python",
   "nbconvert_exporter": "python",
   "pygments_lexer": "ipython3",
   "version": "3.11.3"
  }
 },
 "nbformat": 4,
 "nbformat_minor": 5
}
