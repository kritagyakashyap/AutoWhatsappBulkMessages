{
 "cells": [
  {
   "cell_type": "code",
   "execution_count": 1,
   "id": "f0159492",
   "metadata": {},
   "outputs": [],
   "source": [
    "import pandas as pd\n",
    "import pywhatkit as kit\n",
    "import time\n",
    "import keyboard\n",
    "\n",
    "def send_whatsapp_messages(csv_file_path, phone_column_name):\n",
    "    df = pd.read_csv(csv_file_path)  \n",
    "    for index, row in df.iterrows():\n",
    "        phone_number = str(row[phone_column_name])\n",
    "\n",
    "        if not phone_number.startswith('+'):\n",
    "            phone_number = '+91' + phone_number\n",
    "\n",
    "        message = '''This is Automated message''' \n",
    "\n",
    "        try:\n",
    "            kit.sendwhatmsg_instantly(phone_number, message)\n",
    "            print(f\"Message sent to {phone_number}\")\n",
    "            keyboard.press_and_release(\"enter\")\n",
    "            time.sleep(10)\n",
    "            \n",
    "            \n",
    "            keyboard.press_and_release(\"ctrl+w\")\n",
    "        except Exception as e:\n",
    "            print(f\"Error sending message to {phone_number}: {str(e)}\")"
   ]
  },
  {
   "cell_type": "code",
   "execution_count": 2,
   "id": "8aee1eb6",
   "metadata": {},
   "outputs": [
    {
     "name": "stdout",
     "output_type": "stream"
    }
   ],
   "source": [
    "filepath = r\"C:\\Users\\mailt\\OneDrive\\Desktop\\Automsg.csv\"\n",
    "send_whatsapp_messages(filepath, \"Phone Number\")"
   ]
  },
  {
   "cell_type": "code",
   "execution_count": null,
   "id": "d85facba",
   "metadata": {},
   "outputs": [],
   "source": []
  },
  {
   "cell_type": "code",
   "execution_count": null,
   "id": "67bf5ade",
   "metadata": {},
   "outputs": [],
   "source": []
  },
  {
   "cell_type": "code",
   "execution_count": null,
   "id": "1eed7686",
   "metadata": {},
   "outputs": [],
   "source": []
  },
  {
   "cell_type": "code",
   "execution_count": null,
   "id": "8e5307f6",
   "metadata": {},
   "outputs": [],
   "source": []
  },
  {
   "cell_type": "code",
   "execution_count": null,
   "id": "11ddd038",
   "metadata": {},
   "outputs": [],
   "source": []
  },
  {
   "cell_type": "code",
   "execution_count": null,
   "id": "140b0c28",
   "metadata": {},
   "outputs": [],
   "source": []
  },
  {
   "cell_type": "code",
   "execution_count": null,
   "id": "3edef94f",
   "metadata": {},
   "outputs": [],
   "source": []
  },
  {
   "cell_type": "code",
   "execution_count": null,
   "id": "3a65c877",
   "metadata": {},
   "outputs": [],
   "source": []
  },
  {
   "cell_type": "code",
   "execution_count": null,
   "id": "4841968e",
   "metadata": {},
   "outputs": [],
   "source": []
  },
  {
   "cell_type": "code",
   "execution_count": null,
   "id": "a1c851cb",
   "metadata": {},
   "outputs": [],
   "source": []
  }
 ],
 "metadata": {
  "kernelspec": {
   "display_name": "Python 3 (ipykernel)",
   "language": "python",
   "name": "python3"
  },
  "language_info": {
   "codemirror_mode": {
    "name": "ipython",
    "version": 3
   },
   "file_extension": ".py",
   "mimetype": "text/x-python",
   "name": "python",
   "nbconvert_exporter": "python",
   "pygments_lexer": "ipython3",
   "version": "3.11.3"
  }
 },
 "nbformat": 4,
 "nbformat_minor": 5
}
